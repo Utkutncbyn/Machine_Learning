{
 "cells": [
  {
   "cell_type": "code",
   "execution_count": 10,
   "metadata": {},
   "outputs": [],
   "source": [
    "import pandas as pd"
   ]
  },
  {
   "cell_type": "code",
   "execution_count": 11,
   "metadata": {},
   "outputs": [
    {
     "name": "stdout",
     "output_type": "stream",
     "text": [
      "                 0                  1            2                 3   \\\n",
      "0            shrimp            almonds      avocado    vegetables mix   \n",
      "1           burgers          meatballs         eggs               NaN   \n",
      "2           chutney                NaN          NaN               NaN   \n",
      "3            turkey            avocado          NaN               NaN   \n",
      "4     mineral water               milk   energy bar  whole wheat rice   \n",
      "...             ...                ...          ...               ...   \n",
      "7496         butter         light mayo  fresh bread               NaN   \n",
      "7497        burgers  frozen vegetables         eggs      french fries   \n",
      "7498        chicken                NaN          NaN               NaN   \n",
      "7499       escalope          green tea          NaN               NaN   \n",
      "7500           eggs    frozen smoothie  yogurt cake    low fat yogurt   \n",
      "\n",
      "                4                 5     6               7             8   \\\n",
      "0     green grapes  whole weat flour  yams  cottage cheese  energy drink   \n",
      "1              NaN               NaN   NaN             NaN           NaN   \n",
      "2              NaN               NaN   NaN             NaN           NaN   \n",
      "3              NaN               NaN   NaN             NaN           NaN   \n",
      "4        green tea               NaN   NaN             NaN           NaN   \n",
      "...            ...               ...   ...             ...           ...   \n",
      "7496           NaN               NaN   NaN             NaN           NaN   \n",
      "7497     magazines         green tea   NaN             NaN           NaN   \n",
      "7498           NaN               NaN   NaN             NaN           NaN   \n",
      "7499           NaN               NaN   NaN             NaN           NaN   \n",
      "7500           NaN               NaN   NaN             NaN           NaN   \n",
      "\n",
      "                9               10         11     12     13             14  \\\n",
      "0     tomato juice  low fat yogurt  green tea  honey  salad  mineral water   \n",
      "1              NaN             NaN        NaN    NaN    NaN            NaN   \n",
      "2              NaN             NaN        NaN    NaN    NaN            NaN   \n",
      "3              NaN             NaN        NaN    NaN    NaN            NaN   \n",
      "4              NaN             NaN        NaN    NaN    NaN            NaN   \n",
      "...            ...             ...        ...    ...    ...            ...   \n",
      "7496           NaN             NaN        NaN    NaN    NaN            NaN   \n",
      "7497           NaN             NaN        NaN    NaN    NaN            NaN   \n",
      "7498           NaN             NaN        NaN    NaN    NaN            NaN   \n",
      "7499           NaN             NaN        NaN    NaN    NaN            NaN   \n",
      "7500           NaN             NaN        NaN    NaN    NaN            NaN   \n",
      "\n",
      "          15                 16               17       18         19  \n",
      "0     salmon  antioxydant juice  frozen smoothie  spinach  olive oil  \n",
      "1        NaN                NaN              NaN      NaN        NaN  \n",
      "2        NaN                NaN              NaN      NaN        NaN  \n",
      "3        NaN                NaN              NaN      NaN        NaN  \n",
      "4        NaN                NaN              NaN      NaN        NaN  \n",
      "...      ...                ...              ...      ...        ...  \n",
      "7496     NaN                NaN              NaN      NaN        NaN  \n",
      "7497     NaN                NaN              NaN      NaN        NaN  \n",
      "7498     NaN                NaN              NaN      NaN        NaN  \n",
      "7499     NaN                NaN              NaN      NaN        NaN  \n",
      "7500     NaN                NaN              NaN      NaN        NaN  \n",
      "\n",
      "[7501 rows x 20 columns]\n"
     ]
    }
   ],
   "source": [
    "data = pd.read_csv(r'C:\\Users\\Utkut\\OneDrive\\Masaüstü\\Utku\\Coding\\Python\\Machine Learning\\Regression\\Data\\sepet.csv',header= None)\n",
    "print(data)"
   ]
  },
  {
   "cell_type": "code",
   "execution_count": 12,
   "metadata": {},
   "outputs": [],
   "source": [
    "product_list = []\n",
    "for product in range (0,7501):\n",
    "    product_list.append([str(data.values[product,raw]) for raw in range(0,20)])"
   ]
  },
  {
   "cell_type": "code",
   "execution_count": 13,
   "metadata": {},
   "outputs": [
    {
     "name": "stdout",
     "output_type": "stream",
     "text": [
      "[RelationRecord(items=frozenset({'ground beef', 'herb & pepper'}), support=0.015997866951073192, ordered_statistics=[OrderedStatistic(items_base=frozenset({'herb & pepper'}), items_add=frozenset({'ground beef'}), confidence=0.3234501347708895, lift=3.2919938411349285)]), RelationRecord(items=frozenset({'nan', 'ground beef', 'herb & pepper'}), support=0.015997866951073192, ordered_statistics=[OrderedStatistic(items_base=frozenset({'nan', 'herb & pepper'}), items_add=frozenset({'ground beef'}), confidence=0.3234501347708895, lift=3.2919938411349285)])]\n"
     ]
    }
   ],
   "source": [
    "from apyori.apyori import apriori\n",
    "\n",
    "rules = apriori(product_list,min_support=0.01,min_confidence=0.2,min_lift=3,min_length=2)\n",
    "print(list(rules))"
   ]
  }
 ],
 "metadata": {
  "kernelspec": {
   "display_name": "Python 3",
   "language": "python",
   "name": "python3"
  },
  "language_info": {
   "codemirror_mode": {
    "name": "ipython",
    "version": 3
   },
   "file_extension": ".py",
   "mimetype": "text/x-python",
   "name": "python",
   "nbconvert_exporter": "python",
   "pygments_lexer": "ipython3",
   "version": "3.11.5"
  },
  "orig_nbformat": 4
 },
 "nbformat": 4,
 "nbformat_minor": 2
}
