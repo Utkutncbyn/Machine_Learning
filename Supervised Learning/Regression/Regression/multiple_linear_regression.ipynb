{
 "cells": [
  {
   "cell_type": "code",
   "execution_count": 1,
   "metadata": {},
   "outputs": [],
   "source": [
    "import pandas as pd\n",
    "import numpy as np\n",
    "import matplotlib.pyplot as plt"
   ]
  },
  {
   "cell_type": "code",
   "execution_count": 2,
   "metadata": {},
   "outputs": [
    {
     "name": "stdout",
     "output_type": "stream",
     "text": [
      "[['e']\n",
      " ['e']\n",
      " ['k']\n",
      " ['k']\n",
      " ['e']\n",
      " ['e']\n",
      " ['e']\n",
      " ['e']\n",
      " ['k']\n",
      " ['e']\n",
      " ['k']\n",
      " ['k']\n",
      " ['k']\n",
      " ['k']\n",
      " ['k']\n",
      " ['e']\n",
      " ['e']\n",
      " ['e']\n",
      " ['e']\n",
      " ['k']\n",
      " ['k']\n",
      " ['k']]\n"
     ]
    }
   ],
   "source": [
    "data=pd.read_csv('Data/veriler.csv')\n",
    "\n",
    "country = data.iloc[:,0:1].values\n",
    "gender = data.iloc[:,-1:].values\n",
    "body = data[['boy','kilo','yas']]\n",
    "print(gender)"
   ]
  },
  {
   "cell_type": "code",
   "execution_count": 3,
   "metadata": {},
   "outputs": [
    {
     "name": "stderr",
     "output_type": "stream",
     "text": [
      "c:\\Users\\Utkut\\AppData\\Local\\Programs\\Python\\Python311\\Lib\\site-packages\\sklearn\\preprocessing\\_label.py:114: DataConversionWarning: A column-vector y was passed when a 1d array was expected. Please change the shape of y to (n_samples, ), for example using ravel().\n",
      "  y = column_or_1d(y, warn=True)\n"
     ]
    }
   ],
   "source": [
    "from sklearn.preprocessing import OneHotEncoder,LabelEncoder\n",
    "\n",
    "le = LabelEncoder()\n",
    "ohe= OneHotEncoder()\n",
    "\n",
    "gender = le.fit_transform(gender)\n",
    "country = ohe.fit_transform(country).toarray()"
   ]
  },
  {
   "cell_type": "code",
   "execution_count": 4,
   "metadata": {},
   "outputs": [],
   "source": [
    "gender_df = pd.DataFrame(data=gender,index=range(22),columns=['cinsiyet'])\n",
    "country_df= pd.DataFrame(data=country,index=range(22),columns=['fr','tr','us'])\n",
    "\n",
    "concatenatedData=pd.concat([country_df,body], axis=1)"
   ]
  },
  {
   "cell_type": "code",
   "execution_count": 5,
   "metadata": {},
   "outputs": [],
   "source": [
    "from sklearn.model_selection import train_test_split\n",
    "\n",
    "x_train,x_test,y_train,y_test = train_test_split(concatenatedData,gender_df,test_size=0.33,random_state=0)"
   ]
  },
  {
   "cell_type": "code",
   "execution_count": 6,
   "metadata": {},
   "outputs": [],
   "source": [
    "from sklearn.linear_model import LinearRegression\n",
    "\n",
    "lr=LinearRegression()\n",
    "\n",
    "lr.fit(x_train,y_train)\n",
    "y_pred=lr.predict(x_test)"
   ]
  },
  {
   "cell_type": "code",
   "execution_count": 7,
   "metadata": {},
   "outputs": [
    {
     "name": "stdout",
     "output_type": "stream",
     "text": [
      "                                 OLS Regression Results                                \n",
      "=======================================================================================\n",
      "Dep. Variable:                      y   R-squared (uncentered):                   0.799\n",
      "Model:                            OLS   Adj. R-squared (uncentered):              0.755\n",
      "Method:                 Least Squares   F-statistic:                              17.92\n",
      "Date:                Wed, 30 Aug 2023   Prob (F-statistic):                    4.34e-06\n",
      "Time:                        00:01:42   Log-Likelihood:                         -5.9293\n",
      "No. Observations:                  22   AIC:                                      19.86\n",
      "Df Residuals:                      18   BIC:                                      24.22\n",
      "Df Model:                           4                                                  \n",
      "Covariance Type:            nonrobust                                                  \n",
      "==============================================================================\n",
      "                 coef    std err          t      P>|t|      [0.025      0.975]\n",
      "------------------------------------------------------------------------------\n",
      "x1            -0.4288      0.199     -2.153      0.045      -0.847      -0.010\n",
      "x2            -0.5923      0.181     -3.275      0.004      -0.972      -0.212\n",
      "x3             0.0154      0.002      6.623      0.000       0.011       0.020\n",
      "x4            -0.0262      0.005     -5.068      0.000      -0.037      -0.015\n",
      "==============================================================================\n",
      "Omnibus:                        0.325   Durbin-Watson:                   1.427\n",
      "Prob(Omnibus):                  0.850   Jarque-Bera (JB):                0.486\n",
      "Skew:                           0.076   Prob(JB):                        0.784\n",
      "Kurtosis:                       2.288   Cond. No.                         562.\n",
      "==============================================================================\n",
      "\n",
      "Notes:\n",
      "[1] R² is computed without centering (uncentered) since the model does not contain a constant.\n",
      "[2] Standard Errors assume that the covariance matrix of the errors is correctly specified.\n"
     ]
    }
   ],
   "source": [
    "import statsmodels.api as sm\n",
    "\n",
    "X=np.append(arr=np.ones((22,1)).astype(int),values=concatenatedData,axis=1)\n",
    "X_l=concatenatedData.iloc[:,[0,1,2,3,4,5]].values\n",
    "X_l=np.array(X_l,dtype=float)\n",
    "model = sm.OLS(gender_df.iloc[:,0].values,X_l).fit()\n",
    "\n",
    "X_l=concatenatedData.iloc[:,[0,1,3,4]].values\n",
    "X_l=np.array(X_l,dtype=float)\n",
    "model = sm.OLS(gender_df.iloc[:,0].values,X_l).fit()\n",
    "print(model.summary())"
   ]
  }
 ],
 "metadata": {
  "kernelspec": {
   "display_name": "Python 3",
   "language": "python",
   "name": "python3"
  },
  "language_info": {
   "codemirror_mode": {
    "name": "ipython",
    "version": 3
   },
   "file_extension": ".py",
   "mimetype": "text/x-python",
   "name": "python",
   "nbconvert_exporter": "python",
   "pygments_lexer": "ipython3",
   "version": "3.11.2"
  },
  "orig_nbformat": 4
 },
 "nbformat": 4,
 "nbformat_minor": 2
}
